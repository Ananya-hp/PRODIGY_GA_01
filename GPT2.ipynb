!pip install transformers gradio

 transformers import GPT2LMHeadModel, GPT2Tokenizer
model_name = "gpt2"
tokenizer = GPT2Tokenfromizer.from_pretrained(model_name)
model = GPT2LMHeadModel.from_pretrained(model_name)

def generate_text(prompt):
  inputs = tokenizer.encode(prompt, return_tensors="pt")
  outputs = model.generate(inputs, max_length=100, num_return_sequences=1, do_sample=True, top_k=50, top_p=0.95)
  return tokenizer.decode(outputs[0], skip_special_tokens=True)

import gradio as gr

interface = gr.Interface(fn=generate_text,
                         inputs=gr.Textbox(lines=2, placeholder="Enter a prompt..."),
                         outputs="text",
                         title="GPT-2 Text Generator",
                         description="fine-tuned GPT-2 text generation using your custom dataset. ")
interface.launch()
